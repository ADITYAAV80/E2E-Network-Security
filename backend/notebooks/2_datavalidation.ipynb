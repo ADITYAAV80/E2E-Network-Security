{
 "cells": [
  {
   "cell_type": "code",
   "execution_count": 1,
   "metadata": {},
   "outputs": [
    {
     "name": "stdout",
     "output_type": "stream",
     "text": [
      "/home/aditya/network_security\n"
     ]
    }
   ],
   "source": [
    "import os\n",
    "os.chdir(\"../\")\n",
    "!pwd"
   ]
  },
  {
   "cell_type": "code",
   "execution_count": 4,
   "metadata": {},
   "outputs": [
    {
     "name": "stdout",
     "output_type": "stream",
     "text": [
      "NumDots                               float64\n",
      "SubdomainLevel                        float64\n",
      "PathLevel                             float64\n",
      "UrlLength                             float64\n",
      "NumDash                               float64\n",
      "NumDashInHostname                     float64\n",
      "AtSymbol                              float64\n",
      "TildeSymbol                           float64\n",
      "NumUnderscore                         float64\n",
      "NumPercent                            float64\n",
      "NumQueryComponents                    float64\n",
      "NumAmpersand                          float64\n",
      "NumHash                               float64\n",
      "NumNumericChars                       float64\n",
      "NoHttps                               float64\n",
      "RandomString                          float64\n",
      "IpAddress                             float64\n",
      "DomainInSubdomains                    float64\n",
      "DomainInPaths                         float64\n",
      "HttpsInHostname                       float64\n",
      "HostnameLength                        float64\n",
      "PathLength                            float64\n",
      "QueryLength                           float64\n",
      "DoubleSlashInPath                     float64\n",
      "NumSensitiveWords                     float64\n",
      "EmbeddedBrandName                     float64\n",
      "PctExtHyperlinks                      float64\n",
      "PctExtResourceUrls                    float64\n",
      "ExtFavicon                            float64\n",
      "InsecureForms                         float64\n",
      "RelativeFormAction                    float64\n",
      "ExtFormAction                         float64\n",
      "AbnormalFormAction                    float64\n",
      "PctNullSelfRedirectHyperlinks         float64\n",
      "FrequentDomainNameMismatch            float64\n",
      "FakeLinkInStatusBar                   float64\n",
      "RightClickDisabled                    float64\n",
      "PopUpWindow                           float64\n",
      "SubmitInfoToEmail                     float64\n",
      "IframeOrFrame                         float64\n",
      "MissingTitle                          float64\n",
      "ImagesOnlyInForm                      float64\n",
      "SubdomainLevelRT                      float64\n",
      "UrlLengthRT                           float64\n",
      "PctExtResourceUrlsRT                  float64\n",
      "AbnormalExtFormActionR                float64\n",
      "ExtMetaScriptLinkRT                   float64\n",
      "PctExtNullSelfRedirectHyperlinksRT    float64\n",
      "CLASS_LABEL                           float64\n",
      "dtype: object\n"
     ]
    }
   ],
   "source": [
    "import pandas as pd\n",
    "\n",
    "data = pd.read_csv(\"artifacts/data_ingestion/datafromDB.csv\")\n",
    "print(data.dtypes)"
   ]
  },
  {
   "cell_type": "code",
   "execution_count": 6,
   "metadata": {},
   "outputs": [],
   "source": [
    "from pathlib import Path\n",
    "from pydantic import BaseModel\n",
    "\n",
    "class DataValidationConfig(BaseModel):\n",
    "\n",
    "    root_dir: Path\n",
    "    ingestion_file: str\n",
    "    STATUS_FILE: Path\n",
    "    all_schema: dict"
   ]
  },
  {
   "cell_type": "code",
   "execution_count": 13,
   "metadata": {},
   "outputs": [],
   "source": [
    "from src.NetworkSecurity.constants import *\n",
    "from src.NetworkSecurity.utils.common import read_yaml,create_directories\n",
    "\n",
    "class ConfigurationManager:\n",
    "    def __init__(self,\n",
    "                 config_filepath = CONFIG_FILE_PATH,\n",
    "                 params_filepath = PARAMS_FILE_PATH,\n",
    "                 schema_filepath = SCHEMA_FILE_PATH):\n",
    "        \n",
    "        self.config = read_yaml(config_filepath)\n",
    "        self.params = read_yaml(params_filepath)\n",
    "        self.schema = read_yaml(schema_filepath)\n",
    "\n",
    "        create_directories([self.config.artifacts_root])\n",
    "    \n",
    "    def get_data_validation_config(self)->DataValidationConfig:\n",
    "\n",
    "        config = self.config.data_validation\n",
    "        schema = self.schema.COLUMNS\n",
    "\n",
    "        create_directories([config.root_dir])\n",
    "        \"\"\"\n",
    "        root_dir: Path\n",
    "        ingestion_file: str\n",
    "        STATUS_FILE: Path\n",
    "        all_schema: dict\"\n",
    "        \"\"\"\n",
    "\n",
    "        data_validation_config = DataValidationConfig(\n",
    "            root_dir = config.root_dir,\n",
    "            ingestion_file = config.ingestion_file,\n",
    "            STATUS_FILE = config.STATUS_FILE,\n",
    "            all_schema = schema\n",
    "        )\n",
    "\n",
    "        return data_validation_config"
   ]
  },
  {
   "cell_type": "code",
   "execution_count": 14,
   "metadata": {},
   "outputs": [
    {
     "name": "stdout",
     "output_type": "stream",
     "text": [
      "[2025-03-30 21:41:53,510: INFO: common : Yaml File: config/config.yaml loaded successfully]\n",
      "[2025-03-30 21:41:53,511: INFO: common : Yaml File: params.yaml loaded successfully]\n",
      "[2025-03-30 21:41:53,515: INFO: common : Yaml File: schema.yaml loaded successfully]\n",
      "[2025-03-30 21:41:53,516: INFO: common : created directory at: artifacts]\n",
      "[2025-03-30 21:41:53,516: INFO: common : created directory at: artifacts/data_validation]\n"
     ]
    }
   ],
   "source": [
    "cm = ConfigurationManager()\n",
    "data_validation_config = cm.get_data_validation_config()"
   ]
  },
  {
   "cell_type": "code",
   "execution_count": 17,
   "metadata": {},
   "outputs": [],
   "source": [
    "from src.NetworkSecurity.logging.logger import logger\n",
    "\n",
    "class DataValiadtion:\n",
    "    def __init__(self, config: DataValidationConfig):\n",
    "        self.config = config\n",
    "        \"\"\"\n",
    "        root_dir: Path => config\n",
    "\t\t    STATUS_FILE: str => config\n",
    "\t\t    unzip_data_dir: Path => config\n",
    "\t\t    all_schema: dict => schema \n",
    "        \"\"\"\n",
    "\n",
    "    def validate_all_columns(self) -> bool:\n",
    "        try:\n",
    "            validation_status = True  # Assume valid unless proven wrong\n",
    "            \n",
    "            ## Read CSV\n",
    "            data = pd.read_csv(self.config.ingestion_file)\n",
    "\n",
    "            ## Extract all columns and schema\n",
    "            all_cols = list(data.columns)\n",
    "            all_schema = set(self.config.all_schema.keys())  # Convert to set for fast lookup\n",
    "\n",
    "            ## Check for missing or extra columns\n",
    "            missing_cols = all_schema - set(all_cols)\n",
    "            extra_cols = set(all_cols) - all_schema\n",
    "\n",
    "            if missing_cols or extra_cols:\n",
    "                validation_status = False\n",
    "\n",
    "            ## Write final status\n",
    "            with open(self.config.STATUS_FILE, 'w') as f:\n",
    "                f.write(f\"Validation status: {validation_status}\\n\")\n",
    "                if missing_cols:\n",
    "                    f.write(f\"Missing Columns: {missing_cols}\\n\")\n",
    "                if extra_cols:\n",
    "                    f.write(f\"Extra Columns: {extra_cols}\\n\")\n",
    "\n",
    "            return validation_status\n",
    "\n",
    "        except Exception as e:\n",
    "            raise e\n"
   ]
  },
  {
   "cell_type": "code",
   "execution_count": 18,
   "metadata": {},
   "outputs": [
    {
     "data": {
      "text/plain": [
       "True"
      ]
     },
     "execution_count": 18,
     "metadata": {},
     "output_type": "execute_result"
    }
   ],
   "source": [
    "dv = DataValiadtion(data_validation_config)\n",
    "dv.validate_all_columns()"
   ]
  },
  {
   "cell_type": "code",
   "execution_count": null,
   "metadata": {},
   "outputs": [],
   "source": []
  }
 ],
 "metadata": {
  "kernelspec": {
   "display_name": "network_security",
   "language": "python",
   "name": "python3"
  },
  "language_info": {
   "codemirror_mode": {
    "name": "ipython",
    "version": 3
   },
   "file_extension": ".py",
   "mimetype": "text/x-python",
   "name": "python",
   "nbconvert_exporter": "python",
   "pygments_lexer": "ipython3",
   "version": "3.12.9"
  }
 },
 "nbformat": 4,
 "nbformat_minor": 2
}
