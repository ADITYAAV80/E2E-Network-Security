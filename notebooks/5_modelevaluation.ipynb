{
 "cells": [
  {
   "cell_type": "code",
   "execution_count": 1,
   "metadata": {},
   "outputs": [
    {
     "name": "stdout",
     "output_type": "stream",
     "text": [
      "/home/aditya/network_security\n"
     ]
    }
   ],
   "source": [
    "import os\n",
    "os.chdir(\"../\")\n",
    "!pwd"
   ]
  },
  {
   "cell_type": "code",
   "execution_count": 2,
   "metadata": {},
   "outputs": [],
   "source": [
    "from pathlib import Path\n",
    "from pydantic import BaseModel\n",
    "\n",
    "class ModelEvaluationConfig(BaseModel):\n",
    "    ## from config\n",
    "    root_dir: Path\n",
    "    test_data_path: Path\n",
    "    metric_file_name: str\n",
    "    target_column: str\n",
    "    mlflow_uri: str"
   ]
  },
  {
   "cell_type": "code",
   "execution_count": 3,
   "metadata": {},
   "outputs": [],
   "source": [
    "from src.NetworkSecurity.constants import *\n",
    "from src.NetworkSecurity.utils.common import read_yaml,create_directories\n",
    "\n",
    "\n",
    "class ConfigurationManager:\n",
    "    def __init__(self,\n",
    "                 config_filepath = CONFIG_FILE_PATH,\n",
    "                 params_filepath = PARAMS_FILE_PATH,\n",
    "                 schema_filepath = SCHEMA_FILE_PATH):\n",
    "        \n",
    "        self.config = read_yaml(config_filepath)\n",
    "        self.params = read_yaml(params_filepath)\n",
    "        self.schema = read_yaml(schema_filepath)\n",
    "\n",
    "        create_directories([self.config.artifacts_root])\n",
    "    \n",
    "    def get_model_evaluation_config(self)->ModelEvaluationConfig:\n",
    "\n",
    "        config = self.config.model_evaluation\n",
    "        schema = self.schema.TARGET_COLUMN\n",
    "\n",
    "        create_directories([config.root_dir])\n",
    "\n",
    "        data_model_evaluation_config = ModelEvaluationConfig(\n",
    "\n",
    "            root_dir = config.root_dir,\n",
    "            test_data_path = config.test_data_path,\n",
    "            mlflow_uri= config.mlflow_uri,\n",
    "            metric_file_name = config.metric_file_name,\n",
    "            target_column = schema.name\n",
    "        )\n",
    "\n",
    "        return data_model_evaluation_config"
   ]
  },
  {
   "cell_type": "code",
   "execution_count": 6,
   "metadata": {},
   "outputs": [
    {
     "name": "stdout",
     "output_type": "stream",
     "text": [
      "[2025-03-31 15:56:56,893: INFO: common : Yaml File: config/config.yaml loaded successfully]\n",
      "[2025-03-31 15:56:56,896: INFO: common : Yaml File: params.yaml loaded successfully]\n",
      "[2025-03-31 15:56:56,899: INFO: common : Yaml File: schema.yaml loaded successfully]\n",
      "[2025-03-31 15:56:56,900: INFO: common : created directory at: artifacts]\n",
      "[2025-03-31 15:56:56,901: INFO: common : created directory at: artifacts/model_evaluation]\n"
     ]
    }
   ],
   "source": [
    "cm = ConfigurationManager()\n",
    "model_evaluation_config = cm.get_model_evaluation_config()"
   ]
  },
  {
   "cell_type": "code",
   "execution_count": 17,
   "metadata": {},
   "outputs": [],
   "source": [
    "import pandas as pd\n",
    "from sklearn.metrics import accuracy_score, precision_score, recall_score, f1_score, roc_auc_score\n",
    "import mlflow\n",
    "from src.NetworkSecurity.utils.common import save_json\n",
    "\n",
    "class ModelEvaluate:\n",
    "    def __init__(self, config: ModelEvaluationConfig):\n",
    "        self.config = config\n",
    "    \n",
    "    def eval_metrics(self, actual, pred, pred_proba):\n",
    "        accuracy = accuracy_score(actual, pred)\n",
    "        precision = precision_score(actual, pred, average='weighted')\n",
    "        recall = recall_score(actual, pred, average='weighted')\n",
    "        f1 = f1_score(actual, pred, average='weighted')\n",
    "        auc = roc_auc_score(actual, pred_proba, multi_class=\"ovr\") if len(set(actual)) > 2 else roc_auc_score(actual, pred_proba)\n",
    "        return accuracy, precision, recall, f1, auc\n",
    "\n",
    "    def validate_model(self, model_uri, sample_input):\n",
    "        \"\"\"Validates the model before using it for evaluation.\"\"\"\n",
    "        try:\n",
    "            mlflow.models.predict(\n",
    "                model_uri=model_uri,\n",
    "                input_data=sample_input,\n",
    "                env_manager=\"uv\",\n",
    "            )\n",
    "            print(\" Model validation successful!\")\n",
    "        except Exception as e:\n",
    "            print(f\"Model validation failed: {e}\")\n",
    "            raise e\n",
    "    \n",
    "    def evaluate(self):\n",
    "        test_data = pd.read_csv(self.config.test_data_path)\n",
    "        x_test = test_data.drop([self.config.target_column], axis=1)\n",
    "        y_test = test_data[self.config.target_column]\n",
    "\n",
    "        mlflow.set_tracking_uri(self.config.mlflow_uri)\n",
    "        mlflow.set_registry_uri(self.config.mlflow_uri)\n",
    "        \n",
    "        model_uri = \"runs:/85e7a50505b049edbd32ebd27d71eeef/model\"  # Update with latest run ID\n",
    "        loaded_model = mlflow.pyfunc.load_model(model_uri)\n",
    "\n",
    "        # Validate model\n",
    "        sample_input = x_test.iloc[:1]  # Taking a single row for validation\n",
    "        self.validate_model(model_uri, sample_input)\n",
    "\n",
    "        # Predict\n",
    "        y_pred = loaded_model.predict(pd.DataFrame(x_test))\n",
    "        y_pred_proba = loaded_model.predict_proba(pd.DataFrame(x_test))[:, 1]  # If binary classification\n",
    "\n",
    "        # Evaluate\n",
    "        accuracy, precision, recall, f1, auc = self.eval_metrics(y_test, y_pred, y_pred_proba)\n",
    "\n",
    "        scores = {\n",
    "            \"accuracy\": accuracy,\n",
    "            \"precision\": precision,\n",
    "            \"recall\": recall,\n",
    "            \"f1_score\": f1,\n",
    "            \"auc\": auc\n",
    "        }\n",
    "\n",
    "        save_json(self.config.metric_file_name,scores)\n",
    "        print(f\"Evaluation Metrics - Accuracy: {accuracy}, Precision: {precision}, Recall: {recall}, F1 Score: {f1}\")\n"
   ]
  },
  {
   "cell_type": "code",
   "execution_count": null,
   "metadata": {},
   "outputs": [],
   "source": [
    "me = ModelEvaluate(model_evaluation_config)\n",
    "me.evaluate()"
   ]
  },
  {
   "cell_type": "code",
   "execution_count": null,
   "metadata": {},
   "outputs": [],
   "source": []
  }
 ],
 "metadata": {
  "kernelspec": {
   "display_name": "network_security",
   "language": "python",
   "name": "python3"
  },
  "language_info": {
   "codemirror_mode": {
    "name": "ipython",
    "version": 3
   },
   "file_extension": ".py",
   "mimetype": "text/x-python",
   "name": "python",
   "nbconvert_exporter": "python",
   "pygments_lexer": "ipython3",
   "version": "3.12.9"
  }
 },
 "nbformat": 4,
 "nbformat_minor": 2
}
