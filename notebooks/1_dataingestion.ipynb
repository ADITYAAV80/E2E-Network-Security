{
 "cells": [
  {
   "cell_type": "code",
   "execution_count": 1,
   "metadata": {},
   "outputs": [
    {
     "name": "stdout",
     "output_type": "stream",
     "text": [
      "/home/aditya/network_security\n"
     ]
    }
   ],
   "source": [
    "import os\n",
    "os.chdir(\"../\")\n",
    "!pwd"
   ]
  },
  {
   "cell_type": "code",
   "execution_count": 33,
   "metadata": {},
   "outputs": [],
   "source": [
    "from pydantic import BaseModel\n",
    "from pathlib import Path\n",
    "\n",
    "class DataIngestionConfig(BaseModel):\n",
    "    ## config\n",
    "    ingestion_dir: Path\n",
    "    collection_name: str\n",
    "    database_name: str\n",
    "    file_name: str\n",
    "    "
   ]
  },
  {
   "cell_type": "code",
   "execution_count": 34,
   "metadata": {},
   "outputs": [],
   "source": [
    "from src.NetworkSecurity.constants import *\n",
    "from src.NetworkSecurity.utils.common import read_yaml,create_directories\n",
    "\n",
    "## reads from config/config.yaml\n",
    "class ConfigurationManager:\n",
    "    def __init__(self,\n",
    "                 config_filepath = CONFIG_FILE_PATH,\n",
    "                 params_filepath = PARAMS_FILE_PATH,\n",
    "                 schema_filepath = SCHEMA_FILE_PATH):\n",
    "        \n",
    "        self.config = read_yaml(config_filepath)\n",
    "        self.params = read_yaml(params_filepath)\n",
    "        self.schema = read_yaml(schema_filepath)\n",
    "\n",
    "        create_directories([self.config.artifacts_root])\n",
    "    \n",
    "    def get_data_ingestion_config(self)->DataIngestionConfig:\n",
    "\n",
    "        config = self.config.data_ingestion\n",
    "\n",
    "        # create artifacts/data_ingestion\n",
    "        create_directories([config.ingestion_dir])\n",
    "\n",
    "        ##return data_ingestion_config object which is validated\n",
    "        data_ingestion_config = DataIngestionConfig(\n",
    "\n",
    "            ingestion_dir = config.ingestion_dir,\n",
    "            collection_name = config.collection_name,\n",
    "            database_name = config.database_name,\n",
    "            file_name = config.file_name\n",
    "        )\n",
    "\n",
    "        return data_ingestion_config"
   ]
  },
  {
   "cell_type": "code",
   "execution_count": 35,
   "metadata": {},
   "outputs": [
    {
     "name": "stdout",
     "output_type": "stream",
     "text": [
      "[2025-03-30 20:55:11,903: INFO: common : Yaml File: config/config.yaml loaded successfully]\n",
      "[2025-03-30 20:55:11,904: INFO: common : Yaml File: params.yaml loaded successfully]\n",
      "[2025-03-30 20:55:11,905: INFO: common : Yaml File: schema.yaml loaded successfully]\n",
      "[2025-03-30 20:55:11,905: INFO: common : created directory at: artifacts]\n",
      "[2025-03-30 20:55:11,905: INFO: common : created directory at: artifacts/data_ingestion]\n"
     ]
    }
   ],
   "source": [
    "cm = ConfigurationManager()\n",
    "data_ingestion_config = cm.get_data_ingestion_config()"
   ]
  },
  {
   "cell_type": "code",
   "execution_count": null,
   "metadata": {},
   "outputs": [],
   "source": [
    "import os\n",
    "import pandas as pd\n",
    "from pymongo import MongoClient\n",
    "import certifi\n",
    "from dotenv import load_dotenv\n",
    "from src.NetworkSecurity.logging.logger import logger\n",
    "from src.NetworkSecurity.exception.exception import NetworkSecurityException\n",
    "import sys\n",
    "\n",
    "class DataIngestion:\n",
    "    ## gets config from ConfigManager\n",
    "    def __init__(self, config):\n",
    "        self.config = config\n",
    "\n",
    "    ## extracts data from MongoDB and saves it as CSV\n",
    "    def download_file(self):\n",
    "        try:\n",
    "            load_dotenv()\n",
    "            MONGO_DB_URL = os.getenv(\"MONGO_DB_URL\")\n",
    "\n",
    "            # Connect to MongoDB Atlas\n",
    "            client = MongoClient(MONGO_DB_URL, tlsCAFile=certifi.where())\n",
    "\n",
    "            # Choose Database & Collection\n",
    "            db = client[self.config.database_name]\n",
    "            collection = db[self.config.collection_name]\n",
    "\n",
    "            logger.info(f\"Fetching data from MongoDB collection: {self.config.collection_name}\")\n",
    "\n",
    "            # Retrieve data from MongoDB\n",
    "            data = list(collection.find({}, {\"_id\": 0}))  # Exclude the MongoDB `_id` field\n",
    "\n",
    "            if not data:\n",
    "                raise ValueError(\"No data found in the collection!\")\n",
    "\n",
    "            # Convert to Pandas DataFrame\n",
    "            df = pd.DataFrame(data)\n",
    "\n",
    "            # Save as CSV\n",
    "            os.makedirs(self.config.ingestion_dir, exist_ok=True)\n",
    "            csv_path = os.path.join(self.config.ingestion_dir, self.config.file_name)\n",
    "            df.to_csv(csv_path, index=False)\n",
    "\n",
    "            logger.info(f\"Data successfully downloaded and saved to {csv_path}\")\n",
    "\n",
    "            return csv_path  # Return path for further processing\n",
    "\n",
    "        except Exception as e:\n",
    "            logger.error(f\"Error during data download: {e}\")\n",
    "            NetworkSecurityException(e,sys)\n",
    "\n"
   ]
  },
  {
   "cell_type": "code",
   "execution_count": 37,
   "metadata": {},
   "outputs": [
    {
     "name": "stdout",
     "output_type": "stream",
     "text": [
      "[2025-03-30 20:55:12,948: INFO: 1474577949 : Fetching data from MongoDB collection: NetworkData]\n"
     ]
    },
    {
     "name": "stdout",
     "output_type": "stream",
     "text": [
      "[2025-03-30 20:55:15,582: INFO: 1474577949 : ✅ Data successfully downloaded and saved to artifacts/data_ingestion/datafromDB.csv]\n"
     ]
    },
    {
     "data": {
      "text/plain": [
       "'artifacts/data_ingestion/datafromDB.csv'"
      ]
     },
     "execution_count": 37,
     "metadata": {},
     "output_type": "execute_result"
    }
   ],
   "source": [
    "di = DataIngestion(data_ingestion_config)\n",
    "di.download_file()"
   ]
  },
  {
   "cell_type": "code",
   "execution_count": null,
   "metadata": {},
   "outputs": [],
   "source": []
  }
 ],
 "metadata": {
  "kernelspec": {
   "display_name": "network_security",
   "language": "python",
   "name": "python3"
  },
  "language_info": {
   "codemirror_mode": {
    "name": "ipython",
    "version": 3
   },
   "file_extension": ".py",
   "mimetype": "text/x-python",
   "name": "python",
   "nbconvert_exporter": "python",
   "pygments_lexer": "ipython3",
   "version": "3.12.9"
  }
 },
 "nbformat": 4,
 "nbformat_minor": 2
}
