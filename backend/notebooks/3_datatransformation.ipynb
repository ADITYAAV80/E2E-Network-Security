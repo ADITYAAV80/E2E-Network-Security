{
 "cells": [
  {
   "cell_type": "code",
   "execution_count": 1,
   "metadata": {},
   "outputs": [
    {
     "name": "stdout",
     "output_type": "stream",
     "text": [
      "/home/aditya/network_security\n"
     ]
    }
   ],
   "source": [
    "import os\n",
    "os.chdir(\"../\")\n",
    "!pwd"
   ]
  },
  {
   "cell_type": "code",
   "execution_count": null,
   "metadata": {},
   "outputs": [],
   "source": [
    "import pandas as pd\n",
    "\n",
    "df = pd.read_csv(\"artifacts/data_ingestion/datafromDB.csv\")"
   ]
  },
  {
   "cell_type": "code",
   "execution_count": 19,
   "metadata": {},
   "outputs": [
    {
     "data": {
      "text/plain": [
       "NumDots                               0\n",
       "SubdomainLevel                        0\n",
       "PathLevel                             0\n",
       "UrlLength                             0\n",
       "NumDash                               0\n",
       "NumDashInHostname                     0\n",
       "AtSymbol                              0\n",
       "TildeSymbol                           0\n",
       "NumUnderscore                         0\n",
       "NumPercent                            0\n",
       "NumQueryComponents                    0\n",
       "NumAmpersand                          0\n",
       "NumHash                               0\n",
       "NumNumericChars                       0\n",
       "NoHttps                               0\n",
       "RandomString                          0\n",
       "IpAddress                             0\n",
       "DomainInSubdomains                    0\n",
       "DomainInPaths                         0\n",
       "HttpsInHostname                       0\n",
       "HostnameLength                        0\n",
       "PathLength                            0\n",
       "QueryLength                           0\n",
       "DoubleSlashInPath                     0\n",
       "NumSensitiveWords                     0\n",
       "EmbeddedBrandName                     0\n",
       "PctExtHyperlinks                      0\n",
       "PctExtResourceUrls                    0\n",
       "ExtFavicon                            0\n",
       "InsecureForms                         0\n",
       "RelativeFormAction                    0\n",
       "ExtFormAction                         0\n",
       "AbnormalFormAction                    0\n",
       "PctNullSelfRedirectHyperlinks         0\n",
       "FrequentDomainNameMismatch            0\n",
       "FakeLinkInStatusBar                   0\n",
       "RightClickDisabled                    0\n",
       "PopUpWindow                           0\n",
       "SubmitInfoToEmail                     0\n",
       "IframeOrFrame                         0\n",
       "MissingTitle                          0\n",
       "ImagesOnlyInForm                      0\n",
       "SubdomainLevelRT                      0\n",
       "UrlLengthRT                           0\n",
       "PctExtResourceUrlsRT                  0\n",
       "AbnormalExtFormActionR                0\n",
       "ExtMetaScriptLinkRT                   0\n",
       "PctExtNullSelfRedirectHyperlinksRT    0\n",
       "CLASS_LABEL                           0\n",
       "dtype: int64"
      ]
     },
     "execution_count": 19,
     "metadata": {},
     "output_type": "execute_result"
    }
   ],
   "source": [
    "df.isnull().sum()"
   ]
  },
  {
   "cell_type": "code",
   "execution_count": 13,
   "metadata": {},
   "outputs": [],
   "source": [
    "from pathlib import Path\n",
    "from pydantic import BaseModel\n",
    "\n",
    "class DataTransformationConfig(BaseModel):\n",
    "\n",
    "    ##config\n",
    "    root_dir: Path\n",
    "    data_path: Path\n",
    "    ##params\n",
    "    test_size: float\n",
    "    random_state: int\n"
   ]
  },
  {
   "cell_type": "code",
   "execution_count": 14,
   "metadata": {},
   "outputs": [],
   "source": [
    "from src.NetworkSecurity.constants import *\n",
    "from src.NetworkSecurity.utils.common import read_yaml,create_directories\n",
    "\n",
    "class ConfigurationManager:\n",
    "    def __init__(self,\n",
    "                 config_filepath = CONFIG_FILE_PATH,\n",
    "                 params_filepath = PARAMS_FILE_PATH,\n",
    "                 schema_filepath = SCHEMA_FILE_PATH):\n",
    "        \n",
    "        self.config = read_yaml(config_filepath)\n",
    "        self.params = read_yaml(params_filepath)\n",
    "        self.schema = read_yaml(schema_filepath)\n",
    "\n",
    "        create_directories([self.config.artifacts_root])\n",
    "    \n",
    "    def get_data_transformation_config(self)->DataTransformationConfig:\n",
    "\n",
    "        config = self.config.data_transformation\n",
    "        params = self.params.data_transformation\n",
    "        create_directories([config.root_dir])\n",
    "\n",
    "        data_transformation_config = DataTransformationConfig(\n",
    "            root_dir = config.root_dir,\n",
    "            data_path = config.data_path,\n",
    "            test_size = params.test_size,\n",
    "            random_state = params.random_state\n",
    "        )\n",
    "\n",
    "        return data_transformation_config"
   ]
  },
  {
   "cell_type": "code",
   "execution_count": 15,
   "metadata": {},
   "outputs": [
    {
     "name": "stdout",
     "output_type": "stream",
     "text": [
      "[2025-03-30 22:32:26,383: INFO: common : Yaml File: config/config.yaml loaded successfully]\n",
      "[2025-03-30 22:32:26,384: INFO: common : Yaml File: params.yaml loaded successfully]\n",
      "[2025-03-30 22:32:26,388: INFO: common : Yaml File: schema.yaml loaded successfully]\n",
      "[2025-03-30 22:32:26,388: INFO: common : created directory at: artifacts]\n",
      "[2025-03-30 22:32:26,389: INFO: common : created directory at: artifacts/data_transformation]\n"
     ]
    }
   ],
   "source": [
    "cm = ConfigurationManager()\n",
    "data_transformation_config = cm.get_data_transformation_config()"
   ]
  },
  {
   "cell_type": "code",
   "execution_count": null,
   "metadata": {},
   "outputs": [],
   "source": [
    "import pandas as pd\n",
    "from sklearn.model_selection import train_test_split\n",
    "from src.NetworkSecurity.logging.logger import logger\n",
    "\n",
    "# perform all EDA here\n",
    "class DataTransformation:\n",
    "    def __init__(self,config: DataTransformationConfig):\n",
    "        self.config = config\n",
    "    \n",
    "    def train_test_splitting(self):\n",
    "\n",
    "        data = pd.read_csv(self.config.data_path)\n",
    "\n",
    "        train,test = train_test_split(data,\n",
    "                        test_size=self.config.test_size,\n",
    "                        random_state=self.config.random_state\n",
    "                        )\n",
    "\n",
    "        train.to_csv(os.path.join(self.config.root_dir,\"train.csv\"),index = False)\n",
    "        test.to_csv(os.path.join(self.config.root_dir,\"test.csv\"),index= False)\n",
    "\n",
    "        logger.info(\"Splitted data into training and test sets\")\n",
    "        logger.info(train.shape)\n",
    "        logger.info(test.shape)\n",
    "\n",
    "        print(train.shape)\n",
    "        print(test.shape)"
   ]
  },
  {
   "cell_type": "code",
   "execution_count": 17,
   "metadata": {},
   "outputs": [
    {
     "name": "stdout",
     "output_type": "stream",
     "text": [
      "[2025-03-30 22:32:27,386: INFO: 2371550360 : Splitted data into training and test sets]\n",
      "[2025-03-30 22:32:27,387: INFO: 2371550360 : (8000, 49)]\n",
      "[2025-03-30 22:32:27,387: INFO: 2371550360 : (2000, 49)]\n",
      "(8000, 49)\n",
      "(2000, 49)\n"
     ]
    }
   ],
   "source": [
    "dt = DataTransformation(data_transformation_config)\n",
    "dt.train_test_splitting()"
   ]
  },
  {
   "cell_type": "code",
   "execution_count": null,
   "metadata": {},
   "outputs": [],
   "source": []
  }
 ],
 "metadata": {
  "kernelspec": {
   "display_name": "network_security",
   "language": "python",
   "name": "python3"
  },
  "language_info": {
   "codemirror_mode": {
    "name": "ipython",
    "version": 3
   },
   "file_extension": ".py",
   "mimetype": "text/x-python",
   "name": "python",
   "nbconvert_exporter": "python",
   "pygments_lexer": "ipython3",
   "version": "3.12.9"
  }
 },
 "nbformat": 4,
 "nbformat_minor": 2
}
