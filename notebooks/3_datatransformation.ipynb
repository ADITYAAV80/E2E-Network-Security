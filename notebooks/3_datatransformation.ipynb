{
 "cells": [
  {
   "cell_type": "code",
   "execution_count": 1,
   "metadata": {},
   "outputs": [
    {
     "name": "stdout",
     "output_type": "stream",
     "text": [
      "/home/aditya/network_security\n"
     ]
    }
   ],
   "source": [
    "import os\n",
    "os.chdir(\"../\")\n",
    "!pwd"
   ]
  },
  {
   "cell_type": "code",
   "execution_count": 13,
   "metadata": {},
   "outputs": [],
   "source": [
    "from pathlib import Path\n",
    "from pydantic import BaseModel\n",
    "\n",
    "class DataTransformationConfig(BaseModel):\n",
    "\n",
    "    ##config\n",
    "    root_dir: Path\n",
    "    data_path: Path\n",
    "    ##params\n",
    "    test_size: float\n",
    "    random_state: int\n"
   ]
  },
  {
   "cell_type": "code",
   "execution_count": 14,
   "metadata": {},
   "outputs": [],
   "source": [
    "from src.NetworkSecurity.constants import *\n",
    "from src.NetworkSecurity.utils.common import read_yaml,create_directories\n",
    "\n",
    "class ConfigurationManager:\n",
    "    def __init__(self,\n",
    "                 config_filepath = CONFIG_FILE_PATH,\n",
    "                 params_filepath = PARAMS_FILE_PATH,\n",
    "                 schema_filepath = SCHEMA_FILE_PATH):\n",
    "        \n",
    "        self.config = read_yaml(config_filepath)\n",
    "        self.params = read_yaml(params_filepath)\n",
    "        self.schema = read_yaml(schema_filepath)\n",
    "\n",
    "        create_directories([self.config.artifacts_root])\n",
    "    \n",
    "    def get_data_transformation_config(self)->DataTransformationConfig:\n",
    "\n",
    "        config = self.config.data_transformation\n",
    "        params = self.params.data_transformation\n",
    "        create_directories([config.root_dir])\n",
    "\n",
    "        data_transformation_config = DataTransformationConfig(\n",
    "            root_dir = config.root_dir,\n",
    "            data_path = config.data_path,\n",
    "            test_size = params.test_size,\n",
    "            random_state = params.random_state\n",
    "        )\n",
    "\n",
    "        return data_transformation_config"
   ]
  },
  {
   "cell_type": "code",
   "execution_count": 15,
   "metadata": {},
   "outputs": [
    {
     "name": "stdout",
     "output_type": "stream",
     "text": [
      "[2025-03-30 22:32:26,383: INFO: common : Yaml File: config/config.yaml loaded successfully]\n",
      "[2025-03-30 22:32:26,384: INFO: common : Yaml File: params.yaml loaded successfully]\n",
      "[2025-03-30 22:32:26,388: INFO: common : Yaml File: schema.yaml loaded successfully]\n",
      "[2025-03-30 22:32:26,388: INFO: common : created directory at: artifacts]\n",
      "[2025-03-30 22:32:26,389: INFO: common : created directory at: artifacts/data_transformation]\n"
     ]
    }
   ],
   "source": [
    "cm = ConfigurationManager()\n",
    "data_transformation_config = cm.get_data_transformation_config()"
   ]
  },
  {
   "cell_type": "code",
   "execution_count": null,
   "metadata": {},
   "outputs": [],
   "source": [
    "import pandas as pd\n",
    "from sklearn.model_selection import train_test_split\n",
    "from src.NetworkSecurity.logging.logger import logger\n",
    "\n",
    "# perform all EDA here\n",
    "class DataTransformation:\n",
    "    def __init__(self,config: DataTransformationConfig):\n",
    "        self.config = config\n",
    "    \n",
    "    def train_test_splitting(self):\n",
    "\n",
    "        data = pd.read_csv(self.config.data_path)\n",
    "\n",
    "        train,test = train_test_split(data,\n",
    "                        test_size=self.config.test_size,\n",
    "                        random_state=self.config.random_state\n",
    "                        )\n",
    "\n",
    "        train.to_csv(os.path.join(self.config.root_dir,\"train.csv\"),index = False)\n",
    "        test.to_csv(os.path.join(self.config.root_dir,\"test.csv\"),index= False)\n",
    "\n",
    "        logger.info(\"Splitted data into training and test sets\")\n",
    "        logger.info(train.shape)\n",
    "        logger.info(test.shape)\n",
    "\n",
    "        print(train.shape)\n",
    "        print(test.shape)"
   ]
  },
  {
   "cell_type": "code",
   "execution_count": 17,
   "metadata": {},
   "outputs": [
    {
     "name": "stdout",
     "output_type": "stream",
     "text": [
      "[2025-03-30 22:32:27,386: INFO: 2371550360 : Splitted data into training and test sets]\n",
      "[2025-03-30 22:32:27,387: INFO: 2371550360 : (8000, 49)]\n",
      "[2025-03-30 22:32:27,387: INFO: 2371550360 : (2000, 49)]\n",
      "(8000, 49)\n",
      "(2000, 49)\n"
     ]
    }
   ],
   "source": [
    "dt = DataTransformation(data_transformation_config)\n",
    "dt.train_test_splitting()"
   ]
  },
  {
   "cell_type": "code",
   "execution_count": null,
   "metadata": {},
   "outputs": [],
   "source": []
  }
 ],
 "metadata": {
  "kernelspec": {
   "display_name": "network_security",
   "language": "python",
   "name": "python3"
  },
  "language_info": {
   "codemirror_mode": {
    "name": "ipython",
    "version": 3
   },
   "file_extension": ".py",
   "mimetype": "text/x-python",
   "name": "python",
   "nbconvert_exporter": "python",
   "pygments_lexer": "ipython3",
   "version": "3.12.9"
  }
 },
 "nbformat": 4,
 "nbformat_minor": 2
}
