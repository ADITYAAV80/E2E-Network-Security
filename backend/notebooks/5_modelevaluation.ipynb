{
 "cells": [
  {
   "cell_type": "code",
   "execution_count": 1,
   "metadata": {},
   "outputs": [
    {
     "name": "stdout",
     "output_type": "stream",
     "text": [
      "/home/aditya/network_security\n"
     ]
    }
   ],
   "source": [
    "import os\n",
    "os.chdir(\"../\")\n",
    "!pwd"
   ]
  },
  {
   "cell_type": "code",
   "execution_count": 11,
   "metadata": {},
   "outputs": [],
   "source": [
    "from pathlib import Path\n",
    "from pydantic import BaseModel\n",
    "\n",
    "class ModelEvaluationConfig(BaseModel):\n",
    "    ## from config\n",
    "    root_dir: Path\n",
    "    test_data_path: Path\n",
    "    metric_file_name: str\n",
    "    target_column: str\n",
    "    mlflow_uri: str\n",
    "    ss_file_path: str\n",
    "    model_run: str"
   ]
  },
  {
   "cell_type": "code",
   "execution_count": 12,
   "metadata": {},
   "outputs": [],
   "source": [
    "from src.NetworkSecurity.constants import *\n",
    "from src.NetworkSecurity.utils.common import read_yaml,create_directories\n",
    "\n",
    "\n",
    "class ConfigurationManager:\n",
    "    def __init__(self,\n",
    "                 config_filepath = CONFIG_FILE_PATH,\n",
    "                 params_filepath = PARAMS_FILE_PATH,\n",
    "                 schema_filepath = SCHEMA_FILE_PATH):\n",
    "        \n",
    "        self.config = read_yaml(config_filepath)\n",
    "        self.params = read_yaml(params_filepath)\n",
    "        self.schema = read_yaml(schema_filepath)\n",
    "\n",
    "        create_directories([self.config.artifacts_root])\n",
    "    \n",
    "    def get_model_evaluation_config(self)->ModelEvaluationConfig:\n",
    "\n",
    "        config = self.config.model_evaluation\n",
    "        schema = self.schema.TARGET_COLUMN\n",
    "\n",
    "        create_directories([config.root_dir])\n",
    "\n",
    "        data_model_evaluation_config = ModelEvaluationConfig(\n",
    "\n",
    "            root_dir = config.root_dir,\n",
    "            test_data_path = config.test_data_path,\n",
    "            mlflow_uri= config.mlflow_uri,\n",
    "            metric_file_name = config.metric_file_name,\n",
    "            target_column = schema.name,\n",
    "            ss_file_path = config.ss_file_path,\n",
    "            model_run = config.model_run\n",
    "        )\n",
    "\n",
    "        return data_model_evaluation_config"
   ]
  },
  {
   "cell_type": "code",
   "execution_count": 13,
   "metadata": {},
   "outputs": [
    {
     "name": "stdout",
     "output_type": "stream",
     "text": [
      "[2025-03-31 17:14:50,429: INFO: common : Yaml File: config/config.yaml loaded successfully]\n",
      "[2025-03-31 17:14:50,433: INFO: common : Yaml File: params.yaml loaded successfully]\n",
      "[2025-03-31 17:14:50,436: INFO: common : Yaml File: schema.yaml loaded successfully]\n",
      "[2025-03-31 17:14:50,437: INFO: common : created directory at: artifacts]\n",
      "[2025-03-31 17:14:50,437: INFO: common : created directory at: artifacts/model_evaluation]\n"
     ]
    }
   ],
   "source": [
    "cm = ConfigurationManager()\n",
    "model_evaluation_config = cm.get_model_evaluation_config()"
   ]
  },
  {
   "cell_type": "code",
   "execution_count": 16,
   "metadata": {},
   "outputs": [],
   "source": [
    "import pandas as pd\n",
    "from sklearn.metrics import accuracy_score, precision_score, recall_score, f1_score\n",
    "import mlflow\n",
    "from src.NetworkSecurity.utils.common import save_json\n",
    "import pickle\n",
    "\n",
    "class ModelEvaluate:\n",
    "    def __init__(self, config: ModelEvaluationConfig):\n",
    "        self.config = config\n",
    "    \n",
    "    def eval_metrics(self, actual, pred):\n",
    "        accuracy = accuracy_score(actual, pred)\n",
    "        precision = precision_score(actual, pred, average='weighted')\n",
    "        recall = recall_score(actual, pred, average='weighted')\n",
    "        f1 = f1_score(actual, pred, average='weighted')\n",
    "        return accuracy, precision, recall, f1 \n",
    "\n",
    "    def validate_model(self, model_uri, sample_input):\n",
    "        \"\"\"Validates the model before using it for evaluation.\"\"\"\n",
    "        try:\n",
    "            mlflow.models.predict(\n",
    "                model_uri=model_uri,\n",
    "                input_data=sample_input,\n",
    "                env_manager=\"uv\",\n",
    "            )\n",
    "            print(\" Model validation successful!\")\n",
    "        except Exception as e:\n",
    "            print(f\"Model validation failed: {e}\")\n",
    "            raise e\n",
    "    \n",
    "    def evaluate(self):\n",
    "        test_data = pd.read_csv(self.config.test_data_path)\n",
    "        x_test = test_data.drop([self.config.target_column], axis=1)\n",
    "        y_test = test_data[self.config.target_column]\n",
    "\n",
    "        with open(self.config.ss_file_path, \"rb\") as file:\n",
    "            scaler = pickle.load(file)\n",
    "        x_test = scaler.transform(x_test)\n",
    "        \n",
    "        model_uri = f\"runs:/{self.config.model_run}/model\"  # Update with latest run ID\n",
    "        loaded_model = mlflow.pyfunc.load_model(model_uri)\n",
    "\n",
    "        # Validate model\n",
    "        sample_input = x_test[:1]  # Taking a single row for validation\n",
    "        self.validate_model(model_uri, sample_input)\n",
    "\n",
    "        # Predict\n",
    "        y_pred = loaded_model.predict(pd.DataFrame(x_test))\n",
    "        # Evaluate\n",
    "        accuracy, precision, recall, f1 = self.eval_metrics(y_test, y_pred)\n",
    "\n",
    "        scores = {\n",
    "            \"accuracy\": accuracy,\n",
    "            \"precision\": precision,\n",
    "            \"recall\": recall,\n",
    "            \"f1_score\": f1,\n",
    "        }\n",
    "\n",
    "        save_json(self.config.metric_file_name,scores)\n",
    "        print(f\"Evaluation Metrics - Accuracy: {accuracy}, Precision: {precision}, Recall: {recall}, F1 Score: {f1}\")\n"
   ]
  },
  {
   "cell_type": "code",
   "execution_count": 17,
   "metadata": {},
   "outputs": [
    {
     "name": "stderr",
     "output_type": "stream",
     "text": [
      "2025/03/31 17:15:57 INFO mlflow.models.flavor_backend_registry: Selected backend for flavor 'python_function'\n",
      "2025/03/31 17:16:05 INFO mlflow.utils.virtualenv: Environment /tmp/tmpqw9wjurh/envs/virtualenv_envs/mlflow-e83e3d5a84004286d00d34d3eb4a7e3d743ccf22 already exists\n",
      "2025/03/31 17:16:05 INFO mlflow.utils.environment: === Running command '['bash', '-c', 'source /tmp/tmpqw9wjurh/envs/virtualenv_envs/mlflow-e83e3d5a84004286d00d34d3eb4a7e3d743ccf22/bin/activate && python -c \"\"']'\n",
      "2025/03/31 17:16:05 INFO mlflow.utils.environment: === Running command '['bash', '-c', 'source /tmp/tmpqw9wjurh/envs/virtualenv_envs/mlflow-e83e3d5a84004286d00d34d3eb4a7e3d743ccf22/bin/activate && python /home/aditya/miniconda3/envs/network_security/lib/python3.12/site-packages/mlflow/pyfunc/_mlflow_pyfunc_backend_predict.py --model-uri file:///tmp/tmp14m_h9ze/model --content-type json --input-path /tmp/tmpx_lhkwhg/input.json']'\n"
     ]
    },
    {
     "name": "stdout",
     "output_type": "stream",
     "text": [
      "{\"predictions\": [0]} Model validation successful!\n",
      "[2025-03-31 17:16:08,218: INFO: common : json file saved at: artifacts/model_evaluation/metrics.json]\n",
      "Evaluation Metrics - Accuracy: 0.9885, Precision: 0.9885383434094436, Recall: 0.9885, F1 Score: 0.9884991458924692\n"
     ]
    }
   ],
   "source": [
    "me = ModelEvaluate(model_evaluation_config)\n",
    "me.evaluate()"
   ]
  },
  {
   "cell_type": "code",
   "execution_count": null,
   "metadata": {},
   "outputs": [],
   "source": []
  }
 ],
 "metadata": {
  "kernelspec": {
   "display_name": "network_security",
   "language": "python",
   "name": "python3"
  },
  "language_info": {
   "codemirror_mode": {
    "name": "ipython",
    "version": 3
   },
   "file_extension": ".py",
   "mimetype": "text/x-python",
   "name": "python",
   "nbconvert_exporter": "python",
   "pygments_lexer": "ipython3",
   "version": "3.12.9"
  }
 },
 "nbformat": 4,
 "nbformat_minor": 2
}
